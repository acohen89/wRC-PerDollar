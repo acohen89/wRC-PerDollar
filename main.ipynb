{
 "cells": [
  {
   "cell_type": "markdown",
   "metadata": {},
   "source": [
    "### Most Underrated Player in the MLB\n",
    "Although this is a simple analysis, taking the ration of salary with wRC+ is a good baseline for evaluating which player in the MLB is undervalued."
   ]
  },
  {
   "cell_type": "code",
   "execution_count": 177,
   "metadata": {},
   "outputs": [
    {
     "data": {
      "text/html": [
       "<div>\n",
       "<style scoped>\n",
       "    .dataframe tbody tr th:only-of-type {\n",
       "        vertical-align: middle;\n",
       "    }\n",
       "\n",
       "    .dataframe tbody tr th {\n",
       "        vertical-align: top;\n",
       "    }\n",
       "\n",
       "    .dataframe thead th {\n",
       "        text-align: right;\n",
       "    }\n",
       "</style>\n",
       "<table border=\"1\" class=\"dataframe\">\n",
       "  <thead>\n",
       "    <tr style=\"text-align: right;\">\n",
       "      <th></th>\n",
       "      <th>salary</th>\n",
       "      <th>Team</th>\n",
       "      <th>G</th>\n",
       "      <th>PA</th>\n",
       "      <th>wRC+</th>\n",
       "      <th>dollarPerwRC+</th>\n",
       "    </tr>\n",
       "    <tr>\n",
       "      <th>Name</th>\n",
       "      <th></th>\n",
       "      <th></th>\n",
       "      <th></th>\n",
       "      <th></th>\n",
       "      <th></th>\n",
       "      <th></th>\n",
       "    </tr>\n",
       "  </thead>\n",
       "  <tbody>\n",
       "    <tr>\n",
       "      <th>Cal Raleigh</th>\n",
       "      <td>257628</td>\n",
       "      <td>SEA</td>\n",
       "      <td>119</td>\n",
       "      <td>415</td>\n",
       "      <td>121</td>\n",
       "      <td>2129.157025</td>\n",
       "    </tr>\n",
       "    <tr>\n",
       "      <th>Stuart Fairchild</th>\n",
       "      <td>272963</td>\n",
       "      <td>- - -</td>\n",
       "      <td>46</td>\n",
       "      <td>110</td>\n",
       "      <td>122</td>\n",
       "      <td>2237.401639</td>\n",
       "    </tr>\n",
       "    <tr>\n",
       "      <th>Lars Nootbaar</th>\n",
       "      <td>297499</td>\n",
       "      <td>STL</td>\n",
       "      <td>108</td>\n",
       "      <td>347</td>\n",
       "      <td>125</td>\n",
       "      <td>2379.992000</td>\n",
       "    </tr>\n",
       "    <tr>\n",
       "      <th>Seby Zavala</th>\n",
       "      <td>272963</td>\n",
       "      <td>CHW</td>\n",
       "      <td>61</td>\n",
       "      <td>205</td>\n",
       "      <td>111</td>\n",
       "      <td>2459.126126</td>\n",
       "    </tr>\n",
       "    <tr>\n",
       "      <th>Jake Burger</th>\n",
       "      <td>285231</td>\n",
       "      <td>CHW</td>\n",
       "      <td>51</td>\n",
       "      <td>183</td>\n",
       "      <td>113</td>\n",
       "      <td>2524.168142</td>\n",
       "    </tr>\n",
       "    <tr>\n",
       "      <th>Rowdy Tellez</th>\n",
       "      <td>286224</td>\n",
       "      <td>MIL</td>\n",
       "      <td>153</td>\n",
       "      <td>599</td>\n",
       "      <td>110</td>\n",
       "      <td>2602.036364</td>\n",
       "    </tr>\n",
       "    <tr>\n",
       "      <th>Wander Franco</th>\n",
       "      <td>315901</td>\n",
       "      <td>TBR</td>\n",
       "      <td>83</td>\n",
       "      <td>344</td>\n",
       "      <td>116</td>\n",
       "      <td>2723.284483</td>\n",
       "    </tr>\n",
       "    <tr>\n",
       "      <th>Rodolfo Castro</th>\n",
       "      <td>288298</td>\n",
       "      <td>PIT</td>\n",
       "      <td>71</td>\n",
       "      <td>278</td>\n",
       "      <td>103</td>\n",
       "      <td>2799.009709</td>\n",
       "    </tr>\n",
       "    <tr>\n",
       "      <th>Albert Pujols</th>\n",
       "      <td>426313</td>\n",
       "      <td>STL</td>\n",
       "      <td>109</td>\n",
       "      <td>351</td>\n",
       "      <td>151</td>\n",
       "      <td>2823.264901</td>\n",
       "    </tr>\n",
       "    <tr>\n",
       "      <th>Jason Vosler</th>\n",
       "      <td>371107</td>\n",
       "      <td>SFG</td>\n",
       "      <td>36</td>\n",
       "      <td>111</td>\n",
       "      <td>127</td>\n",
       "      <td>2922.102362</td>\n",
       "    </tr>\n",
       "  </tbody>\n",
       "</table>\n",
       "</div>"
      ],
      "text/plain": [
       "                  salary   Team    G   PA  wRC+  dollarPerwRC+\n",
       "Name                                                          \n",
       "Cal Raleigh       257628    SEA  119  415   121    2129.157025\n",
       "Stuart Fairchild  272963  - - -   46  110   122    2237.401639\n",
       "Lars Nootbaar     297499    STL  108  347   125    2379.992000\n",
       "Seby Zavala       272963    CHW   61  205   111    2459.126126\n",
       "Jake Burger       285231    CHW   51  183   113    2524.168142\n",
       "Rowdy Tellez      286224    MIL  153  599   110    2602.036364\n",
       "Wander Franco     315901    TBR   83  344   116    2723.284483\n",
       "Rodolfo Castro    288298    PIT   71  278   103    2799.009709\n",
       "Albert Pujols     426313    STL  109  351   151    2823.264901\n",
       "Jason Vosler      371107    SFG   36  111   127    2922.102362"
      ]
     },
     "execution_count": 177,
     "metadata": {},
     "output_type": "execute_result"
    }
   ],
   "source": [
    "import numpy as np\n",
    "import pandas as pd \n",
    "import matplotlib.pyplot as plt\n",
    "pd.set_option('display.max_columns', None)\n",
    "batting = pd.read_csv('playersBattingData.csv', index_col=0)\n",
    "salary = pd.read_csv('mlbSalaries.csv', index_col=4)\n",
    "\n",
    "# Filter data: \n",
    "batting = batting[batting['PA'] >= 100]\n",
    "salary = salary[salary['year'] == 2021]\n",
    "\n",
    "# Make it look pretty: \n",
    "salary.rename(columns={'name': 'Name'}, inplace=True)\n",
    "salary.set_index('Name', inplace=True)\n",
    "comb = pd.merge(batting, salary, on=\"Name\")\n",
    "comb.drop(columns=['team', 'year'], inplace=True)\n",
    "comb = comb[['salary', 'Team', 'G', 'PA', 'wRC+']]\n",
    "\n",
    "# Compute new stat\n",
    "comb['dollarPerwRC+'] = comb['salary']/comb['wRC+']\n",
    "comb.sort_values(by=['dollarPerwRC+'], ascending=True, inplace=True)\n",
    "comb.head(10)"
   ]
  },
  {
   "cell_type": "markdown",
   "metadata": {},
   "source": [
    "### Top Ten most Undervalued Players According to Their wRC+"
   ]
  },
  {
   "cell_type": "code",
   "execution_count": 213,
   "metadata": {},
   "outputs": [
    {
     "data": {
      "image/png": "[encoded data removed]",
      "text/plain": [
       "<Figure size 432x288 with 1 Axes>"
      ]
     },
     "metadata": {
      "needs_background": "light"
     },
     "output_type": "display_data"
    }
   ],
   "source": [
    "data.plot(kind='bar')\n",
    "plt.show()"
   ]
  }
 ],
 "metadata": {
  "kernelspec": {
   "display_name": "Python 3.9.12 ('base')",
   "language": "python",
   "name": "python3"
  },
  "language_info": {
   "codemirror_mode": {
    "name": "ipython",
    "version": 3
   },
   "file_extension": ".py",
   "mimetype": "text/x-python",
   "name": "python",
   "nbconvert_exporter": "python",
   "pygments_lexer": "ipython3",
   "version": "3.9.12"
  },
  "orig_nbformat": 4,
  "vscode": {
   "interpreter": {
    "hash": "3e2213bc59ed6f6bc5061323753a1cc8cf39cd8d9601bbbbf1edd777a0c2bca0"
   }
  }
 },
 "nbformat": 4,
 "nbformat_minor": 2
}
